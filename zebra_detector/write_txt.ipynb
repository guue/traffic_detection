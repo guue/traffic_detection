{
 "cells": [
  {
   "cell_type": "code",
   "execution_count": 1,
   "metadata": {},
   "outputs": [
    {
     "name": "stdout",
     "output_type": "stream",
     "text": [
      "写入完成: train.txt\n",
      "写入完成: test.txt\n"
     ]
    }
   ],
   "source": [
    "import os\n",
    "\n",
    "def write_dataset_txt(dataset_path, output_txt_path):\n",
    "    '''\n",
    "    dataset_path: 包含图片文件的文件夹的路径。\n",
    "    output_txt_path: 输出文本文件的路径，用于保存图片文件的相对或绝对路径。\n",
    "    '''\n",
    "    # 初始化一个空列表，用于存储文件路径\n",
    "    image_paths = []\n",
    "    \n",
    "    # 遍历文件夹中的所有文件\n",
    "    for root, dirs, files in os.walk(dataset_path):\n",
    "        for file in files:\n",
    "            # 检查文件是否为JPEG图片\n",
    "            if file.lower().endswith(\".jpg\"):\n",
    "                # 将图片文件的路径添加到列表中\n",
    "                # 使用绝对路径或相对路径根据需要修改\n",
    "                image_paths.append(os.path.join(root, file))\n",
    "    \n",
    "    # 将所有图片文件的路径写入指定的文本文件中\n",
    "    with open(output_txt_path, 'w') as f:\n",
    "        for path in image_paths:\n",
    "            f.write(path + \"\\n\")\n",
    "\n",
    "    print(f\"写入完成: {output_txt_path}\")\n",
    "\n",
    "if __name__ == '__main__':\n",
    "    # 指定训练集和测试集图片所在的文件夹路径\n",
    "    train_images_path = r\"/hy-tmp/Yolo-FastestV2-main/dataset/train\"\n",
    "    test_images_path = r\"/hy-tmp/Yolo-FastestV2-main/dataset/val\"\n",
    "    \n",
    "    # 指定输出文本文件的路径\n",
    "    train_txt_path = \"/hy-tmp/Yolo-FastestV2-main/dataset/train.txt\"\n",
    "    test_txt_path = \"/hy-tmp/Yolo-FastestV2-main/dataset/test.txt\"\n",
    "    \n",
    "    # 生成train.txt和test.txt\n",
    "    write_dataset_txt(train_images_path, train_txt_path)\n",
    "    write_dataset_txt(test_images_path, test_txt_path)\n"
   ]
  }
 ],
 "metadata": {
  "kernelspec": {
   "display_name": "pytorch",
   "language": "python",
   "name": "python3"
  },
  "language_info": {
   "codemirror_mode": {
    "name": "ipython",
    "version": 3
   },
   "file_extension": ".py",
   "mimetype": "text/x-python",
   "name": "python",
   "nbconvert_exporter": "python",
   "pygments_lexer": "ipython3",
   "version": "3.8.10"
  }
 },
 "nbformat": 4,
 "nbformat_minor": 2
}
